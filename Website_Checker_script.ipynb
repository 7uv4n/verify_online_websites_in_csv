{
  "cells": [
    {
      "cell_type": "markdown",
      "metadata": {
        "id": "t9L-Jf1VwjuQ"
      },
      "source": [
        "# How to check whether websites present in a CSV file is online?\n",
        "\n",
        "The python script to do this is as follows.\n",
        "\n",
        "This python script automates the work to check whether the websites present in a CSV file are online , by sending a request with timeout for 2 seconds. \n",
        "\n",
        "The new set of websites will be saved into file1.csv\n",
        "\n",
        "Created this for Phishing website detection project\n",
        "\n",
        "All the best on your project"
      ]
    },
    {
      "cell_type": "code",
      "execution_count": 1,
      "metadata": {
        "colab": {
          "base_uri": "https://localhost:8080/"
        },
        "id": "dCPzfHhwRPgP",
        "outputId": "19a56220-160f-43d9-9318-15bfdaabd8f1"
      },
      "outputs": [
        {
          "name": "stdout",
          "output_type": "stream",
          "text": [
            "False https://tcnqpvv.cn\n",
            "False https://kpkkjar.cn\n",
            "False https://supports-opensea.com/\n",
            "False https://ufjapan.nvzfh.cn\n",
            "False http://opensea-bridge.com\n",
            "False https://ufjapan.penjingw.cn\n",
            "False https://aeoncojapan.nltwkp.cn\n",
            "False https://marketplacexaeinfinity.com/\n",
            "False http://axieliinfinity.site\n",
            "False https://attmailkds.weebly.com/\n",
            "False https://uni.sawp.online/\n",
            "False http://zcomirm.co.vu/apvzs.html\n",
            "False https://business-page-appeal-1258623-0.web.app/appeal.html\n",
            "False https://business-page-appeal-1258623-0.web.app/check.html\n",
            "False https://business-page-appeal-1258623-0.web.app/\n",
            "False http://sepertikume.co.vu/Safety_Information.html\n",
            "False https://terjalapakkz.topijerami.workers.dev/\n",
            "False https://www.201bono-lnterbak.online/\n",
            "False http://connect-metamask.com\n",
            "False https://blogs.kimmatsko.com/sm10/Home/\n",
            "True http://axiinninfinitye.com\n",
            "False https://www.eki-net.2leb6pd5.com\n",
            "False https://wvw-interbnak.com/\n",
            "False https://connecti-auonepay-jp.pwinuhi.cn/\n",
            "False https://stramlpac.com/\n",
            "False https://business-page-appeal-1263346-0.web.app/appeal.html\n",
            "False https://business-page-appeal-1263346-0.web.app/check.html\n",
            "False https://business-page-appeal-1263346-0.web.app/\n",
            "False http://www.bancaporinternetempresas.banbifnet.com/\n",
            "False http://next-step-100000558722346598263.tk/checkpoint_next.php\n",
            "False http://next-step-10000085745696326530.tk/checkpoint_next.php\n",
            "False http://next-step-10000085745696326529.tk/checkpoint_next.php\n",
            "False http://next-step-10000085745696326528.tk/checkpoint_next.php\n",
            "False http://next-step-100000558722346598264.tk/checkpoint_next.php\n",
            "False http://next-step-100000558722346598267.tk/checkpoint_next.php\n",
            "False http://next-step-100000558722346598265.tk/checkpoint_next.php\n",
            "False http://Next-step-100000558722346598268.tk/checkpoint_next.php\n",
            "False https://is.gd/AzzzrW?Confirmation\n",
            "False http://Next-step-100000558722346598269.tk/checkpoint_next.php\n",
            "False https://is.gd/lakbiy?Confirmation\n",
            "False http://Next-step-10000085745696326527.tk/checkpoint_next.php\n",
            "False https://is.gd/BHjoN2?Confirmation\n",
            "False http://Next-step-100000558722346598261.tk/checkpoint_next.php\n",
            "False http://Next-step-100000558722346598262.tk/checkpoint_next.php\n",
            "False https://is.gd/L900lg?Confirmation\n",
            "False https://attmailjcg.weebly.com/\n",
            "False https://business-page-appeal-1263475-1.web.app/appeal.html\n",
            "False https://business-page-appeal-1263475-1.web.app/check.html\n",
            "False https://business-page-appeal-1263475-1.web.app/\n",
            "False https://www41.wap-conect-online.website/?identity=4GsHOxwcuTiEqVVhaV5LDVLZDeT6cLFIBj66TJsXC5IirHBsrUj5cm2&amp;flow=bfS1OD4PhPOpleGJnTFtadlhaFGAvbxEhF1U90mCwAKHasP9Mys8gl6TncdobrC97NiMagnfDawD326Y7r06XdW&amp;cont=1&amp;link=aave&amp;campanha=maumau\n",
            "False https://business-page-appeal-1634623-0.web.app/appeal.html\n",
            "False https://business-page-appeal-1634623-0.web.app/check.html\n",
            "False https://business-page-appeal-1634623-0.web.app/\n",
            "False http://www.one-inch.xyz/\n",
            "False https://www.visa.co.jp.fdgg.xyz/\n",
            "False https://local-eats.com.au\n",
            "False https://smbc-kdjf.shop/\n",
            "False https://attmailhgdc.weebly.com/\n",
            "False https://hhexfqq.cn\n",
            "False https://sbcglobal00.weebly.com/\n",
            "False http://grupo-ebisaenlinea02934234.atwebpages.com/\n",
            "False http://www.bancaporlnternetlnterbarnk.sx7tqcyq.com/\n",
            "False https://www41.conect-wap-online.space/?identity=iCtDLe6COBBrlEGwPVBoyaOkb4TEx8eoron7gAJwsYsvpSbkXSa1FCg&amp;flow=6iN0FJxADOLAkvcA8sGhALbf4Jt14SuRd98fVMOXGi6Bh5YonbuEyGYko7MaPnRJgGYrCEwXH0w49h8tDmoIF7X&amp;cont=1&amp;link=axieinfinity&amp;campanha=budega\n"
          ]
        }
      ],
      "source": [
        "import pandas as pd\n",
        "import urllib.request\n",
        "\n",
        "### Use all the print statement for verification\n",
        "\n",
        "### Read the CSV files\n",
        "df=pd.read_csv(\"verified_online.csv\")\n",
        "\n",
        "\"\"\"\n",
        "### Function to check whether the website is online or not\n",
        "### Sends a request to a URL and waits for 2 seconds. If successful, returns true\n",
        "### If any error comes, returns false \n",
        "\"\"\"\n",
        "\n",
        "def website_is_live(url):\n",
        "    try:\n",
        "        urllib.request.urlopen(url,timeout=2).getcode()\n",
        "        return True\n",
        "    except:\n",
        "        return False\n",
        "\n",
        "### Store the status of websites in form of Boolean List\n",
        "bools=[]\n",
        "\n",
        "### For Loop to check websites one by one\n",
        "### The dataframe must contain the column name \"url\" with all websites under that column\n",
        "for i in df.url:\n",
        "    a=website_is_live(i)\n",
        "    print(str(a)+\" \"+str(i))\n",
        "    bools.append(a)\n",
        "\n",
        "# print(bools)\n",
        "pdf=df[bools]\n",
        "# print(pdf)\n",
        "\n",
        "### Websites currently at working status can be found here\n",
        "pdf.to_csv('file1.csv')"
      ]
    },
    {
      "cell_type": "code",
      "execution_count": null,
      "metadata": {
        "id": "0pm6Lr3ewbso"
      },
      "outputs": [],
      "source": []
    },
    {
      "cell_type": "markdown",
      "metadata": {
        "id": "Nc3X9x4URSja"
      },
      "source": [
        "# New Section"
      ]
    },
    {
      "cell_type": "code",
      "execution_count": null,
      "metadata": {
        "id": "uJq_bw7kwAr6"
      },
      "outputs": [],
      "source": []
    }
  ],
  "metadata": {
    "colab": {
      "collapsed_sections": [],
      "provenance": []
    },
    "kernelspec": {
      "display_name": "Python 3.7.11 ('base')",
      "language": "python",
      "name": "python3"
    },
    "language_info": {
      "codemirror_mode": {
        "name": "ipython",
        "version": 3
      },
      "file_extension": ".py",
      "mimetype": "text/x-python",
      "name": "python",
      "nbconvert_exporter": "python",
      "pygments_lexer": "ipython3",
      "version": "3.7.11"
    },
    "vscode": {
      "interpreter": {
        "hash": "05cfea83ba036a6eb2c150c0c2cbc27474de2e3ad785bd6b476f65181d24ae79"
      }
    }
  },
  "nbformat": 4,
  "nbformat_minor": 0
}
